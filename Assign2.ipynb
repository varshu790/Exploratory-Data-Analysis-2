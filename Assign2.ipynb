{
  "nbformat": 4,
  "nbformat_minor": 0,
  "metadata": {
    "colab": {
      "provenance": []
    },
    "kernelspec": {
      "name": "python3",
      "display_name": "Python 3"
    },
    "language_info": {
      "name": "python"
    }
  },
  "cells": [
    {
      "cell_type": "code",
      "execution_count": 1,
      "metadata": {
        "id": "TEBJv7-6vXn7"
      },
      "outputs": [],
      "source": [
        "import pandas as pd\n",
        "import numpy as np\n",
        "import matplotlib.pyplot as plt\n",
        "import seaborn as sns\n",
        "%matplotlib inline"
      ]
    },
    {
      "cell_type": "code",
      "source": [
        "data = pd.read_excel('/content/flight_price.xlsx')"
      ],
      "metadata": {
        "id": "BMKpuNcPv-HS"
      },
      "execution_count": 9,
      "outputs": []
    },
    {
      "cell_type": "code",
      "source": [
        "data.head()"
      ],
      "metadata": {
        "colab": {
          "base_uri": "https://localhost:8080/",
          "height": 608
        },
        "id": "WPbCGL8lwIcJ",
        "outputId": "a5142d86-7d1a-4d28-9c9d-698470254199"
      },
      "execution_count": 10,
      "outputs": [
        {
          "output_type": "execute_result",
          "data": {
            "text/plain": [
              "       Airline Date_of_Journey    Source Destination                  Route  \\\n",
              "0       IndiGo      24/03/2019  Banglore   New Delhi              BLR → DEL   \n",
              "1    Air India       1/05/2019   Kolkata    Banglore  CCU → IXR → BBI → BLR   \n",
              "2  Jet Airways       9/06/2019     Delhi      Cochin  DEL → LKO → BOM → COK   \n",
              "3       IndiGo      12/05/2019   Kolkata    Banglore        CCU → NAG → BLR   \n",
              "4       IndiGo      01/03/2019  Banglore   New Delhi        BLR → NAG → DEL   \n",
              "\n",
              "  Dep_Time  Arrival_Time Duration Total_Stops Additional_Info  Price  \n",
              "0    22:20  01:10 22 Mar   2h 50m    non-stop         No info   3897  \n",
              "1    05:50         13:15   7h 25m     2 stops         No info   7662  \n",
              "2    09:25  04:25 10 Jun      19h     2 stops         No info  13882  \n",
              "3    18:05         23:30   5h 25m      1 stop         No info   6218  \n",
              "4    16:50         21:35   4h 45m      1 stop         No info  13302  "
            ],
            "text/html": [
              "\n",
              "  <div id=\"df-81edc5c9-d556-4368-b73e-939611e83e55\" class=\"colab-df-container\">\n",
              "    <div>\n",
              "<style scoped>\n",
              "    .dataframe tbody tr th:only-of-type {\n",
              "        vertical-align: middle;\n",
              "    }\n",
              "\n",
              "    .dataframe tbody tr th {\n",
              "        vertical-align: top;\n",
              "    }\n",
              "\n",
              "    .dataframe thead th {\n",
              "        text-align: right;\n",
              "    }\n",
              "</style>\n",
              "<table border=\"1\" class=\"dataframe\">\n",
              "  <thead>\n",
              "    <tr style=\"text-align: right;\">\n",
              "      <th></th>\n",
              "      <th>Airline</th>\n",
              "      <th>Date_of_Journey</th>\n",
              "      <th>Source</th>\n",
              "      <th>Destination</th>\n",
              "      <th>Route</th>\n",
              "      <th>Dep_Time</th>\n",
              "      <th>Arrival_Time</th>\n",
              "      <th>Duration</th>\n",
              "      <th>Total_Stops</th>\n",
              "      <th>Additional_Info</th>\n",
              "      <th>Price</th>\n",
              "    </tr>\n",
              "  </thead>\n",
              "  <tbody>\n",
              "    <tr>\n",
              "      <th>0</th>\n",
              "      <td>IndiGo</td>\n",
              "      <td>24/03/2019</td>\n",
              "      <td>Banglore</td>\n",
              "      <td>New Delhi</td>\n",
              "      <td>BLR → DEL</td>\n",
              "      <td>22:20</td>\n",
              "      <td>01:10 22 Mar</td>\n",
              "      <td>2h 50m</td>\n",
              "      <td>non-stop</td>\n",
              "      <td>No info</td>\n",
              "      <td>3897</td>\n",
              "    </tr>\n",
              "    <tr>\n",
              "      <th>1</th>\n",
              "      <td>Air India</td>\n",
              "      <td>1/05/2019</td>\n",
              "      <td>Kolkata</td>\n",
              "      <td>Banglore</td>\n",
              "      <td>CCU → IXR → BBI → BLR</td>\n",
              "      <td>05:50</td>\n",
              "      <td>13:15</td>\n",
              "      <td>7h 25m</td>\n",
              "      <td>2 stops</td>\n",
              "      <td>No info</td>\n",
              "      <td>7662</td>\n",
              "    </tr>\n",
              "    <tr>\n",
              "      <th>2</th>\n",
              "      <td>Jet Airways</td>\n",
              "      <td>9/06/2019</td>\n",
              "      <td>Delhi</td>\n",
              "      <td>Cochin</td>\n",
              "      <td>DEL → LKO → BOM → COK</td>\n",
              "      <td>09:25</td>\n",
              "      <td>04:25 10 Jun</td>\n",
              "      <td>19h</td>\n",
              "      <td>2 stops</td>\n",
              "      <td>No info</td>\n",
              "      <td>13882</td>\n",
              "    </tr>\n",
              "    <tr>\n",
              "      <th>3</th>\n",
              "      <td>IndiGo</td>\n",
              "      <td>12/05/2019</td>\n",
              "      <td>Kolkata</td>\n",
              "      <td>Banglore</td>\n",
              "      <td>CCU → NAG → BLR</td>\n",
              "      <td>18:05</td>\n",
              "      <td>23:30</td>\n",
              "      <td>5h 25m</td>\n",
              "      <td>1 stop</td>\n",
              "      <td>No info</td>\n",
              "      <td>6218</td>\n",
              "    </tr>\n",
              "    <tr>\n",
              "      <th>4</th>\n",
              "      <td>IndiGo</td>\n",
              "      <td>01/03/2019</td>\n",
              "      <td>Banglore</td>\n",
              "      <td>New Delhi</td>\n",
              "      <td>BLR → NAG → DEL</td>\n",
              "      <td>16:50</td>\n",
              "      <td>21:35</td>\n",
              "      <td>4h 45m</td>\n",
              "      <td>1 stop</td>\n",
              "      <td>No info</td>\n",
              "      <td>13302</td>\n",
              "    </tr>\n",
              "  </tbody>\n",
              "</table>\n",
              "</div>\n",
              "    <div class=\"colab-df-buttons\">\n",
              "\n",
              "  <div class=\"colab-df-container\">\n",
              "    <button class=\"colab-df-convert\" onclick=\"convertToInteractive('df-81edc5c9-d556-4368-b73e-939611e83e55')\"\n",
              "            title=\"Convert this dataframe to an interactive table.\"\n",
              "            style=\"display:none;\">\n",
              "\n",
              "  <svg xmlns=\"http://www.w3.org/2000/svg\" height=\"24px\" viewBox=\"0 -960 960 960\">\n",
              "    <path d=\"M120-120v-720h720v720H120Zm60-500h600v-160H180v160Zm220 220h160v-160H400v160Zm0 220h160v-160H400v160ZM180-400h160v-160H180v160Zm440 0h160v-160H620v160ZM180-180h160v-160H180v160Zm440 0h160v-160H620v160Z\"/>\n",
              "  </svg>\n",
              "    </button>\n",
              "\n",
              "  <style>\n",
              "    .colab-df-container {\n",
              "      display:flex;\n",
              "      gap: 12px;\n",
              "    }\n",
              "\n",
              "    .colab-df-convert {\n",
              "      background-color: #E8F0FE;\n",
              "      border: none;\n",
              "      border-radius: 50%;\n",
              "      cursor: pointer;\n",
              "      display: none;\n",
              "      fill: #1967D2;\n",
              "      height: 32px;\n",
              "      padding: 0 0 0 0;\n",
              "      width: 32px;\n",
              "    }\n",
              "\n",
              "    .colab-df-convert:hover {\n",
              "      background-color: #E2EBFA;\n",
              "      box-shadow: 0px 1px 2px rgba(60, 64, 67, 0.3), 0px 1px 3px 1px rgba(60, 64, 67, 0.15);\n",
              "      fill: #174EA6;\n",
              "    }\n",
              "\n",
              "    .colab-df-buttons div {\n",
              "      margin-bottom: 4px;\n",
              "    }\n",
              "\n",
              "    [theme=dark] .colab-df-convert {\n",
              "      background-color: #3B4455;\n",
              "      fill: #D2E3FC;\n",
              "    }\n",
              "\n",
              "    [theme=dark] .colab-df-convert:hover {\n",
              "      background-color: #434B5C;\n",
              "      box-shadow: 0px 1px 3px 1px rgba(0, 0, 0, 0.15);\n",
              "      filter: drop-shadow(0px 1px 2px rgba(0, 0, 0, 0.3));\n",
              "      fill: #FFFFFF;\n",
              "    }\n",
              "  </style>\n",
              "\n",
              "    <script>\n",
              "      const buttonEl =\n",
              "        document.querySelector('#df-81edc5c9-d556-4368-b73e-939611e83e55 button.colab-df-convert');\n",
              "      buttonEl.style.display =\n",
              "        google.colab.kernel.accessAllowed ? 'block' : 'none';\n",
              "\n",
              "      async function convertToInteractive(key) {\n",
              "        const element = document.querySelector('#df-81edc5c9-d556-4368-b73e-939611e83e55');\n",
              "        const dataTable =\n",
              "          await google.colab.kernel.invokeFunction('convertToInteractive',\n",
              "                                                    [key], {});\n",
              "        if (!dataTable) return;\n",
              "\n",
              "        const docLinkHtml = 'Like what you see? Visit the ' +\n",
              "          '<a target=\"_blank\" href=https://colab.research.google.com/notebooks/data_table.ipynb>data table notebook</a>'\n",
              "          + ' to learn more about interactive tables.';\n",
              "        element.innerHTML = '';\n",
              "        dataTable['output_type'] = 'display_data';\n",
              "        await google.colab.output.renderOutput(dataTable, element);\n",
              "        const docLink = document.createElement('div');\n",
              "        docLink.innerHTML = docLinkHtml;\n",
              "        element.appendChild(docLink);\n",
              "      }\n",
              "    </script>\n",
              "  </div>\n",
              "\n",
              "\n",
              "<div id=\"df-9005d0ab-5917-4c9f-b3af-30d537c4c04d\">\n",
              "  <button class=\"colab-df-quickchart\" onclick=\"quickchart('df-9005d0ab-5917-4c9f-b3af-30d537c4c04d')\"\n",
              "            title=\"Suggest charts\"\n",
              "            style=\"display:none;\">\n",
              "\n",
              "<svg xmlns=\"http://www.w3.org/2000/svg\" height=\"24px\"viewBox=\"0 0 24 24\"\n",
              "     width=\"24px\">\n",
              "    <g>\n",
              "        <path d=\"M19 3H5c-1.1 0-2 .9-2 2v14c0 1.1.9 2 2 2h14c1.1 0 2-.9 2-2V5c0-1.1-.9-2-2-2zM9 17H7v-7h2v7zm4 0h-2V7h2v10zm4 0h-2v-4h2v4z\"/>\n",
              "    </g>\n",
              "</svg>\n",
              "  </button>\n",
              "\n",
              "<style>\n",
              "  .colab-df-quickchart {\n",
              "      --bg-color: #E8F0FE;\n",
              "      --fill-color: #1967D2;\n",
              "      --hover-bg-color: #E2EBFA;\n",
              "      --hover-fill-color: #174EA6;\n",
              "      --disabled-fill-color: #AAA;\n",
              "      --disabled-bg-color: #DDD;\n",
              "  }\n",
              "\n",
              "  [theme=dark] .colab-df-quickchart {\n",
              "      --bg-color: #3B4455;\n",
              "      --fill-color: #D2E3FC;\n",
              "      --hover-bg-color: #434B5C;\n",
              "      --hover-fill-color: #FFFFFF;\n",
              "      --disabled-bg-color: #3B4455;\n",
              "      --disabled-fill-color: #666;\n",
              "  }\n",
              "\n",
              "  .colab-df-quickchart {\n",
              "    background-color: var(--bg-color);\n",
              "    border: none;\n",
              "    border-radius: 50%;\n",
              "    cursor: pointer;\n",
              "    display: none;\n",
              "    fill: var(--fill-color);\n",
              "    height: 32px;\n",
              "    padding: 0;\n",
              "    width: 32px;\n",
              "  }\n",
              "\n",
              "  .colab-df-quickchart:hover {\n",
              "    background-color: var(--hover-bg-color);\n",
              "    box-shadow: 0 1px 2px rgba(60, 64, 67, 0.3), 0 1px 3px 1px rgba(60, 64, 67, 0.15);\n",
              "    fill: var(--button-hover-fill-color);\n",
              "  }\n",
              "\n",
              "  .colab-df-quickchart-complete:disabled,\n",
              "  .colab-df-quickchart-complete:disabled:hover {\n",
              "    background-color: var(--disabled-bg-color);\n",
              "    fill: var(--disabled-fill-color);\n",
              "    box-shadow: none;\n",
              "  }\n",
              "\n",
              "  .colab-df-spinner {\n",
              "    border: 2px solid var(--fill-color);\n",
              "    border-color: transparent;\n",
              "    border-bottom-color: var(--fill-color);\n",
              "    animation:\n",
              "      spin 1s steps(1) infinite;\n",
              "  }\n",
              "\n",
              "  @keyframes spin {\n",
              "    0% {\n",
              "      border-color: transparent;\n",
              "      border-bottom-color: var(--fill-color);\n",
              "      border-left-color: var(--fill-color);\n",
              "    }\n",
              "    20% {\n",
              "      border-color: transparent;\n",
              "      border-left-color: var(--fill-color);\n",
              "      border-top-color: var(--fill-color);\n",
              "    }\n",
              "    30% {\n",
              "      border-color: transparent;\n",
              "      border-left-color: var(--fill-color);\n",
              "      border-top-color: var(--fill-color);\n",
              "      border-right-color: var(--fill-color);\n",
              "    }\n",
              "    40% {\n",
              "      border-color: transparent;\n",
              "      border-right-color: var(--fill-color);\n",
              "      border-top-color: var(--fill-color);\n",
              "    }\n",
              "    60% {\n",
              "      border-color: transparent;\n",
              "      border-right-color: var(--fill-color);\n",
              "    }\n",
              "    80% {\n",
              "      border-color: transparent;\n",
              "      border-right-color: var(--fill-color);\n",
              "      border-bottom-color: var(--fill-color);\n",
              "    }\n",
              "    90% {\n",
              "      border-color: transparent;\n",
              "      border-bottom-color: var(--fill-color);\n",
              "    }\n",
              "  }\n",
              "</style>\n",
              "\n",
              "  <script>\n",
              "    async function quickchart(key) {\n",
              "      const quickchartButtonEl =\n",
              "        document.querySelector('#' + key + ' button');\n",
              "      quickchartButtonEl.disabled = true;  // To prevent multiple clicks.\n",
              "      quickchartButtonEl.classList.add('colab-df-spinner');\n",
              "      try {\n",
              "        const charts = await google.colab.kernel.invokeFunction(\n",
              "            'suggestCharts', [key], {});\n",
              "      } catch (error) {\n",
              "        console.error('Error during call to suggestCharts:', error);\n",
              "      }\n",
              "      quickchartButtonEl.classList.remove('colab-df-spinner');\n",
              "      quickchartButtonEl.classList.add('colab-df-quickchart-complete');\n",
              "    }\n",
              "    (() => {\n",
              "      let quickchartButtonEl =\n",
              "        document.querySelector('#df-9005d0ab-5917-4c9f-b3af-30d537c4c04d button');\n",
              "      quickchartButtonEl.style.display =\n",
              "        google.colab.kernel.accessAllowed ? 'block' : 'none';\n",
              "    })();\n",
              "  </script>\n",
              "</div>\n",
              "    </div>\n",
              "  </div>\n"
            ]
          },
          "metadata": {},
          "execution_count": 10
        }
      ]
    },
    {
      "cell_type": "markdown",
      "source": [
        "Q1. Load the flight price dataset and examine its dimensions. How many rows and columns does the\n",
        "dataset have?"
      ],
      "metadata": {
        "id": "VD0vfkeFwlVv"
      }
    },
    {
      "cell_type": "code",
      "source": [
        "print(\"dimensions of the dataset\",data.shape)"
      ],
      "metadata": {
        "colab": {
          "base_uri": "https://localhost:8080/"
        },
        "id": "NDD2ZJ8jwOrX",
        "outputId": "d8572b10-7d11-4935-c17c-0928a73dc823"
      },
      "execution_count": 11,
      "outputs": [
        {
          "output_type": "stream",
          "name": "stdout",
          "text": [
            "dimensions of the dataset (10683, 11)\n"
          ]
        }
      ]
    },
    {
      "cell_type": "markdown",
      "source": [
        "Q2. What is the distribution of flight prices in the dataset? Create a histogram to visualize the\n",
        "distribution."
      ],
      "metadata": {
        "id": "u8szQB-xxDyr"
      }
    },
    {
      "cell_type": "code",
      "source": [
        "plt.figure(figsize=(8, 6))\n",
        "plt.hist(data['Price'], bins=30, color='skyblue', edgecolor='black')\n",
        "plt.xlabel('Flight Prices')\n",
        "plt.ylabel('Frequency')\n",
        "plt.title('Distribution of Flight Prices')\n",
        "plt.grid(True)\n",
        "plt.show()"
      ],
      "metadata": {
        "colab": {
          "base_uri": "https://localhost:8080/",
          "height": 541
        },
        "id": "VeJHMtDFwZk7",
        "outputId": "446c4039-ff51-44c8-b3a7-ad58bcdd63f3"
      },
      "execution_count": 15,
      "outputs": [
        {
          "output_type": "display_data",
          "data": {
            "text/plain": [
              "<Figure size 800x600 with 1 Axes>"
            ],
            "image/png": "[encoded data removed]"
          },
          "metadata": {}
        }
      ]
    },
    {
      "cell_type": "markdown",
      "source": [
        "Q3. What is the range of prices in the dataset? What is the minimum and maximum price?"
      ],
      "metadata": {
        "id": "wAzypO_XxODg"
      }
    },
    {
      "cell_type": "code",
      "source": [
        "# Finding the minimum and maximum prices\n",
        "min_price = data['Price'].min()\n",
        "max_price = data['Price'].max()\n",
        "\n",
        "# Calculating the range\n",
        "price_range = max_price - min_price\n",
        "\n",
        "print(f\"Minimum price: {min_price}\")\n",
        "print(f\"Maximum price: {max_price}\")\n",
        "print(f\"Price range: {price_range}\")"
      ],
      "metadata": {
        "colab": {
          "base_uri": "https://localhost:8080/"
        },
        "id": "HfMRwHsnw2B-",
        "outputId": "c4b61705-a62d-47dc-9c61-88cd17df2065"
      },
      "execution_count": 16,
      "outputs": [
        {
          "output_type": "stream",
          "name": "stdout",
          "text": [
            "Minimum price: 1759\n",
            "Maximum price: 79512\n",
            "Price range: 77753\n"
          ]
        }
      ]
    },
    {
      "cell_type": "markdown",
      "source": [
        "Q4. How does the price of flights vary by airline? Create a boxplot to compare the prices of different\n",
        "airlines."
      ],
      "metadata": {
        "id": "H5kgg0NPyIB9"
      }
    },
    {
      "cell_type": "code",
      "source": [
        "# Creating a boxplot\n",
        "plt.figure(figsize=(10, 6))\n",
        "sns.boxplot(x='Airline', y='Price', data=data, palette='viridis')\n",
        "plt.xlabel('Airline')\n",
        "plt.ylabel('Price')\n",
        "plt.title('Flight Prices by Airline')\n",
        "plt.xticks(rotation=45)  # Rotating x-axis labels for better readability\n",
        "plt.tight_layout()\n",
        "plt.show()\n"
      ],
      "metadata": {
        "colab": {
          "base_uri": "https://localhost:8080/",
          "height": 627
        },
        "id": "wQBiR_NLyW7L",
        "outputId": "c153f22c-a36f-431f-99bd-476210d38870"
      },
      "execution_count": 17,
      "outputs": [
        {
          "output_type": "display_data",
          "data": {
            "text/plain": [
              "<Figure size 1000x600 with 1 Axes>"
            ],
            "image/png": "[encoded data removed]"
          },
          "metadata": {}
        }
      ]
    },
    {
      "cell_type": "markdown",
      "source": [
        "Q5. Are there any outliers in the dataset? Identify any potential outliers using a boxplot and describe how\n",
        "they may impact your analysis.\n",
        "\n",
        "ANS- However, by creating a boxplot as previously mentioned, you can visually inspect potential outliers based on the distribution of flight prices across different airlines.\n",
        "\n",
        "If there are outliers visible in the boxplot (individual data points significantly distant from the main cluster of data), they could impact your analysis in several ways:\n",
        "\n",
        "Skewing Statistical Measures: Outliers can significantly affect statistical measures like the mean and standard deviation, potentially misrepresenting the central tendency and variability of flight prices for different airlines.\n",
        "\n",
        "Misleading Insights: Outliers might distort the perceived typical price range for an airline, potentially leading to incorrect conclusions about the pricing strategies or competitiveness of certain airlines.\n",
        "\n",
        "Decision Making: In certain analyses, outliers might have a substantial impact on decision-making processes. Understanding whether these outliers are genuine extreme values or errors is crucial for making informed decisions.\n",
        "\n",
        "Model Performance: In predictive modeling or machine learning, outliers can disproportionately influence the model's behavior, potentially affecting its accuracy and generalization to new data.\n",
        "\n",
        "Identifying and understanding outliers is vital for ensuring the robustness and accuracy of your analysis. If outliers are identified, careful consideration is needed to determine whether they are valid data points representing extreme but legitimate values or if they are errors that need to be addressed. Depending on the context, you might choose to either handle them appropriately or investigate their underlying reasons."
      ],
      "metadata": {
        "id": "dQ47obIRyiIc"
      }
    },
    {
      "cell_type": "markdown",
      "source": [
        "Q6. You are working for a travel agency, and your boss has asked you to analyze the Flight Price dataset\n",
        "to identify the peak travel season. What features would you analyze to identify the peak season, and how\n",
        "would you present your findings to your boss?\n",
        "\n",
        "\n",
        "ANS- Identifying the peak travel season involves analyzing various features within the Flight Price dataset. Here are some key features to consider and how to present the findings to your boss:\n",
        "\n",
        "### Features to Analyze:\n",
        "\n",
        "1. **Date/Time Information**: Analyze flight prices across different months, seasons, or specific date ranges. Aggregate data to identify periods of increased or decreased prices.\n",
        "   \n",
        "2. **Historical Pricing Trends**: Review historical data to spot recurring patterns or trends in flight prices during specific times of the year.\n",
        "\n",
        "3. **Demand and Booking Patterns**: Investigate booking volumes or demand during different times of the year to correlate high demand with potential peak travel seasons.\n",
        "\n",
        "### Analytical Approach:\n",
        "\n",
        "1. **Aggregate Price Trends by Month/Season**: Plot average flight prices over each month or season to visualize fluctuations. Line charts or bar graphs can effectively display these trends.\n",
        "\n",
        "2. **Year-over-Year Comparison**: Compare flight prices and booking volumes year-over-year to identify consistent high-demand periods.\n",
        "\n",
        "3. **Statistical Analysis**: Conduct statistical tests or analyses to determine significant differences in flight prices between different periods.\n",
        "\n",
        "### Presentation to Your Boss:\n",
        "\n",
        "1. **Visualizations**: Provide visually appealing charts or graphs showcasing average flight prices over time, highlighting peaks and troughs across months or seasons.\n",
        "\n",
        "2. **Key Findings**: Summarize the identified peak travel seasons and the rationale behind these findings. Emphasize the months or periods where prices are consistently high due to increased demand.\n",
        "\n",
        "3. **Recommendations**: Suggest actions based on the findings, such as adjusting marketing strategies, offering deals during off-peak periods, or preparing for higher demand during peak seasons.\n",
        "\n",
        "4. **Insights on Customer Behavior**: If available, include insights on customer behavior during peak seasons. For example, popular destinations, preferred flight classes, or demographics of travelers during these periods.\n",
        "\n",
        "By analyzing historical pricing trends, demand patterns, and booking data, you can effectively identify and present the peak travel seasons to your boss, enabling informed decision-making and strategic planning for the travel agency."
      ],
      "metadata": {
        "id": "muDGoUmh0eHw"
      }
    },
    {
      "cell_type": "markdown",
      "source": [
        "Q7. You are a data analyst for a flight booking website, and you have been asked to analyze the Flight\n",
        "Price dataset to identify any trends in flight prices. What features would you analyze to identify these\n",
        "trends, and what visualizations would you use to present your findings to your team?\n",
        "\n",
        "ANS- To identify trends in flight prices within the dataset, you can analyze several features and use various visualizations to present your findings effectively:\n",
        "\n",
        "### Features to Analyze:\n",
        "\n",
        "1. **Time-Based Analysis**:\n",
        "   - **Date/Time**: Analyze flight prices over time, considering day of the week, month, or season.\n",
        "   - **Yearly Trends**: Identify trends in flight prices over multiple years.\n",
        "\n",
        "2. **Airlines and Routes**:\n",
        "   - Analyze price variations across different airlines and specific routes.\n",
        "\n",
        "3. **Booking Window**:\n",
        "   - Investigate how far in advance flights are booked and its impact on prices.\n",
        "\n",
        "4. **Additional Factors**:\n",
        "   - Consider other factors like flight duration, layovers, or class to identify correlations with price fluctuations.\n",
        "\n",
        "### Visualizations for Presentation:\n",
        "\n",
        "1. **Time Series Analysis**:\n",
        "   - **Line Charts**: Showcasing trends in flight prices over time (monthly or yearly) to visualize seasonal or long-term changes.\n",
        "   \n",
        "2. **Comparison Across Airlines/Routes**:\n",
        "   - **Bar Charts or Boxplots**: Compare average prices among different airlines or specific routes to highlight variations.\n",
        "   \n",
        "3. **Booking Window vs. Prices**:\n",
        "   - **Scatter Plots or Line Charts**: Display how flight prices change concerning the time gap between booking and departure.\n",
        "\n",
        "4. **Heatmaps or Geographic Visualizations**:\n",
        "   - Show price variations across regions or specific destinations using heatmaps or geographic plots if the dataset contains location-based information.\n",
        "\n",
        "### Presentation to Your Team:\n",
        "\n",
        "1. **Visual Dashboards**: Create interactive dashboards using tools like Tableau or Power BI, allowing your team to explore trends dynamically.\n",
        "\n",
        "2. **Summary Reports**:\n",
        "   - Provide summary reports outlining key findings, such as notable trends in prices over time, variations across airlines/routes, and insights into booking behavior.\n",
        "\n",
        "3. **Visual Illustrations**:\n",
        "   - Use clear and visually appealing charts and graphs to present the data trends effectively. For example, side-by-side comparisons of airlines or routes using bar charts.\n",
        "\n",
        "4. **Insights and Recommendations**:\n",
        "   - Interpret the identified trends and offer actionable insights. For instance, highlight the best times to book flights for cost savings or showcase popular routes with consistent pricing trends.\n",
        "\n",
        "By analyzing different aspects of flight prices and presenting the findings through visualizations, dashboards, and clear insights, your team can make informed decisions regarding pricing strategies, marketing approaches, and customer engagement to enhance the flight booking website's performance."
      ],
      "metadata": {
        "id": "gWcF9RiC048V"
      }
    },
    {
      "cell_type": "markdown",
      "source": [
        "Q8. You are a data scientist working for an airline company, and you have been asked to analyze the\n",
        "Flight Price dataset to identify the factors that affect flight prices. What features would you analyze to\n",
        "identify these factors, and how would you present your findings to the management team?\n",
        "\n",
        "ANS- To identify factors affecting flight prices in the dataset as a data scientist for an airline company, you'd consider several features and use various analytical methods to present findings to the management team:\n",
        "\n",
        "### Features to Analyze:\n",
        "\n",
        "1. **Date/Time Information**:\n",
        "   - Analyze flight prices across different months, days of the week, or seasons to identify seasonal trends.\n",
        "   \n",
        "2. **Route and Distance**:\n",
        "   - Examine the impact of different routes and flight distances on prices.\n",
        "   \n",
        "3. **Airline and Class**:\n",
        "   - Analyze price variations among different airlines and different classes (economy, business, first class).\n",
        "\n",
        "4. **Advance Booking**:\n",
        "   - Investigate how prices vary concerning the time gap between booking and departure.\n",
        "\n",
        "5. **Additional Factors**:\n",
        "   - Explore the impact of factors like flight duration, layovers, and demand on pricing.\n",
        "\n",
        "### Analytical Approaches:\n",
        "\n",
        "1. **Statistical Analysis**:\n",
        "   - Conduct regression analysis to quantify the impact of various factors on flight prices.\n",
        "   \n",
        "2. **Correlation Analysis**:\n",
        "   - Identify correlations between different features and flight prices to understand relationships.\n",
        "\n",
        "3. **Feature Importance**:\n",
        "   - Use machine learning models like Random Forests or Gradient Boosting to determine the relative importance of features in predicting flight prices.\n",
        "\n",
        "### Presentation to the Management Team:\n",
        "\n",
        "1. **Visualizations**:\n",
        "   - Use visual aids such as heatmaps, scatter plots, and bar charts to illustrate correlations and variations between different factors and flight prices.\n",
        "\n",
        "2. **Regression Analysis Results**:\n",
        "   - Present regression analysis results, highlighting coefficients and p-values to showcase which factors have significant effects on flight prices.\n",
        "\n",
        "3. **Feature Importance Rankings**:\n",
        "   - Display the importance of features obtained from machine learning models to demonstrate which factors play the most critical role in determining prices.\n",
        "\n",
        "4. **Insights and Recommendations**:\n",
        "   - Summarize key findings and provide actionable insights. For instance, highlight the impact of specific factors (e.g., time of booking, route choice) on pricing and suggest strategies to optimize pricing based on these findings.\n",
        "\n",
        "By conducting thorough analyses on various features and using statistical methods and machine learning models to identify influential factors, you can provide the management team with actionable insights to optimize pricing strategies, enhance revenue, and better cater to customer needs."
      ],
      "metadata": {
        "id": "IITaW_Ro1ReM"
      }
    },
    {
      "cell_type": "code",
      "source": [],
      "metadata": {
        "id": "Y8bEIuWmypm9"
      },
      "execution_count": null,
      "outputs": []
    }
  ]
}